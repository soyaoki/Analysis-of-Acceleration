{
 "cells": [
  {
   "cell_type": "code",
   "execution_count": 60,
   "metadata": {},
   "outputs": [],
   "source": [
    "import sys\n",
    "import numpy as np\n",
    "import matplotlib.pyplot as plt\n",
    "from statistics import mean, median,variance,stdev\n",
    "from scipy.stats import norm"
   ]
  },
  {
   "cell_type": "code",
   "execution_count": 96,
   "metadata": {},
   "outputs": [],
   "source": [
    "## Histogram Intersection ##\n",
    "def HI(a, b,N=100):\n",
    "    mini = min(min(a),min(b))\n",
    "    maxi = max(max(a),max(b))\n",
    "    a_hist, a_bins = np.histogram(a,bins=N,range=(mini,maxi),normed=True)\n",
    "    b_hist, b_bins = np.histogram(b,bins=N,range=(mini,maxi),normed=True)\n",
    "    HI = 0\n",
    "    for i in range(0, N-1):\n",
    "        HI = HI + min(a_hist[i], b_hist[i])\n",
    "    return HI"
   ]
  },
  {
   "cell_type": "code",
   "execution_count": 97,
   "metadata": {},
   "outputs": [],
   "source": [
    "## KLD(正規分布) ##\n",
    "def KLD(a, b):\n",
    "    a_mu = np.mean(a)\n",
    "    a_sigma = np.std(a)\n",
    "    b_mu = np.mean(b)\n",
    "    b_sigma = np.std(b)\n",
    "    \n",
    "    return np.log(b_sigma / b_sigma) + (a_sigma*a_sigma + (a_mu - b_mu)*(a_mu - b_mu))/(2*b_sigma*b_sigma) - 1/2"
   ]
  },
  {
   "cell_type": "code",
   "execution_count": 98,
   "metadata": {},
   "outputs": [],
   "source": [
    "## JSD ##\n",
    "def JSD(a, b):\n",
    "    m = np.array([a+b])/2\n",
    "    return 0.5 * (KLD(a, m) + KLD(b, m))"
   ]
  },
  {
   "cell_type": "code",
   "execution_count": 99,
   "metadata": {},
   "outputs": [],
   "source": [
    "## L1 norm ##\n",
    "def L1Norm(a, b):"
   ]
  },
  {
   "cell_type": "code",
   "execution_count": 100,
   "metadata": {},
   "outputs": [],
   "source": [
    "## L2 norm ##"
   ]
  },
  {
   "cell_type": "code",
   "execution_count": 101,
   "metadata": {},
   "outputs": [],
   "source": [
    "## data load ##"
   ]
  },
  {
   "cell_type": "code",
   "execution_count": 102,
   "metadata": {},
   "outputs": [],
   "source": [
    "## IC ##"
   ]
  },
  {
   "cell_type": "code",
   "execution_count": 68,
   "metadata": {},
   "outputs": [
    {
     "name": "stdout",
     "output_type": "stream",
     "text": [
      "3320\n"
     ]
    }
   ],
   "source": [
    "file_name = \"IC/g/x.txt\"\n",
    "#file_name = \"IC/gyro/x.txt\"\n",
    "X_IC = []\n",
    "\n",
    "file = open(file_name, 'r')\n",
    "\n",
    "for line in file.readlines():\n",
    "    fname = line.rstrip().split(',') #using rstrip to remove the \\n\n",
    "    X_IC.append(float(fname[1]))\n",
    "\n",
    "file.close()\n",
    "print(len(X_IC))"
   ]
  },
  {
   "cell_type": "code",
   "execution_count": 69,
   "metadata": {},
   "outputs": [
    {
     "name": "stdout",
     "output_type": "stream",
     "text": [
      "3320\n"
     ]
    }
   ],
   "source": [
    "file_name = \"IC/g/y.txt\"\n",
    "#file_name = \"IC/gyro/y.txt\"\n",
    "Y_IC = []\n",
    "\n",
    "file = open(file_name, 'r')\n",
    "\n",
    "for line in file.readlines():\n",
    "    fname = line.rstrip().split(',') #using rstrip to remove the \\n\n",
    "    Y_IC.append(float(fname[1]))\n",
    "\n",
    "file.close()\n",
    "print(len(Y_IC))"
   ]
  },
  {
   "cell_type": "code",
   "execution_count": 70,
   "metadata": {},
   "outputs": [
    {
     "name": "stdout",
     "output_type": "stream",
     "text": [
      "3320\n"
     ]
    }
   ],
   "source": [
    "file_name = \"IC/g/z.txt\"\n",
    "#file_name = \"IC/gyro/z.txt\"\n",
    "Z_IC = []\n",
    "\n",
    "file = open(file_name, 'r')\n",
    "\n",
    "for line in file.readlines():\n",
    "    fname = line.rstrip().split(',') #using rstrip to remove the \\n\n",
    "    Z_IC.append(float(fname[1]))\n",
    "\n",
    "file.close()\n",
    "print(len(Z_IC))"
   ]
  },
  {
   "cell_type": "code",
   "execution_count": 71,
   "metadata": {},
   "outputs": [
    {
     "name": "stdout",
     "output_type": "stream",
     "text": [
      "3320\n"
     ]
    }
   ],
   "source": [
    "T_IC = np.arange(0, len(X_IC)*0.1, 0.1)\n",
    "print(len(T_IC))"
   ]
  },
  {
   "cell_type": "code",
   "execution_count": 72,
   "metadata": {},
   "outputs": [],
   "source": [
    "## ICE ##"
   ]
  },
  {
   "cell_type": "code",
   "execution_count": 73,
   "metadata": {},
   "outputs": [
    {
     "name": "stdout",
     "output_type": "stream",
     "text": [
      "2785\n"
     ]
    }
   ],
   "source": [
    "file_name = \"ICE/x.txt\"\n",
    "X_ICE = []\n",
    "\n",
    "file = open(file_name, 'r')\n",
    "\n",
    "for line in file.readlines():\n",
    "    fname = line.rstrip().split(',') #using rstrip to remove the \\n\n",
    "    X_ICE.append(float(fname[1]))\n",
    "\n",
    "file.close()\n",
    "print(len(X_ICE))"
   ]
  },
  {
   "cell_type": "code",
   "execution_count": 74,
   "metadata": {},
   "outputs": [
    {
     "name": "stdout",
     "output_type": "stream",
     "text": [
      "2785\n"
     ]
    }
   ],
   "source": [
    "file_name = \"ICE/y.txt\"\n",
    "Y_ICE = []\n",
    "\n",
    "file = open(file_name, 'r')\n",
    "\n",
    "for line in file.readlines():\n",
    "    fname = line.rstrip().split(',') #using rstrip to remove the \\n\n",
    "    Y_ICE.append(float(fname[1]))\n",
    "\n",
    "file.close()\n",
    "print(len(Y_ICE))"
   ]
  },
  {
   "cell_type": "code",
   "execution_count": 75,
   "metadata": {},
   "outputs": [
    {
     "name": "stdout",
     "output_type": "stream",
     "text": [
      "2785\n"
     ]
    }
   ],
   "source": [
    "file_name = \"ICE/z.txt\"\n",
    "Z_ICE = []\n",
    "\n",
    "file = open(file_name, 'r')\n",
    "\n",
    "for line in file.readlines():\n",
    "    fname = line.rstrip().split(',') #using rstrip to remove the \\n\n",
    "    Z_ICE.append(float(fname[1]))\n",
    "\n",
    "file.close()\n",
    "print(len(Z_ICE))"
   ]
  },
  {
   "cell_type": "code",
   "execution_count": 76,
   "metadata": {},
   "outputs": [
    {
     "name": "stdout",
     "output_type": "stream",
     "text": [
      "2785\n"
     ]
    }
   ],
   "source": [
    "T_ICE = np.arange(0, len(X_ICE)*0.1, 0.1)\n",
    "print(len(T_ICE))"
   ]
  },
  {
   "cell_type": "code",
   "execution_count": 77,
   "metadata": {},
   "outputs": [],
   "source": [
    "## show ##"
   ]
  },
  {
   "cell_type": "code",
   "execution_count": 78,
   "metadata": {},
   "outputs": [
    {
     "data": {
      "image/png": "[encoded data removed]",
      "text/plain": [
       "<Figure size 432x288 with 1 Axes>"
      ]
     },
     "metadata": {},
     "output_type": "display_data"
    },
    {
     "data": {
      "image/png": "[encoded data removed]",
      "text/plain": [
       "<Figure size 432x288 with 1 Axes>"
      ]
     },
     "metadata": {},
     "output_type": "display_data"
    }
   ],
   "source": [
    "plt.subplot(211)\n",
    "#plt.plot(T_IC, X_IC)\n",
    "plt.scatter(T_IC, X_IC)\n",
    "plt.show()\n",
    "plt.subplot(212)\n",
    "#plt.plot(T_ICE, X_ICE)\n",
    "plt.scatter(T_ICE, X_ICE)\n",
    "plt.show()"
   ]
  },
  {
   "cell_type": "code",
   "execution_count": 79,
   "metadata": {},
   "outputs": [
    {
     "data": {
      "image/png": "[encoded data removed]",
      "text/plain": [
       "<Figure size 432x288 with 1 Axes>"
      ]
     },
     "metadata": {},
     "output_type": "display_data"
    }
   ],
   "source": [
    "ave = mean(X_IC)\n",
    "sigma = stdev(X_IC)\n",
    "X_nd_IC = np.arange(ave-4*sigma,ave+4*sigma,0.001)\n",
    "Y_nd_IC = norm.pdf(X_nd_IC,ave,sigma)\n",
    "ave = mean(X_ICE)\n",
    "sigma = stdev(X_ICE)\n",
    "X_nd_ICE = np.arange(ave-4*sigma,ave+4*sigma,0.001)\n",
    "Y_nd_ICE = norm.pdf(X_nd_ICE,ave,sigma)\n",
    "plt.figure()\n",
    "plt.hist(X_IC,alpha=0.5)\n",
    "plt.hist(X_ICE,alpha=0.5)\n",
    "plt.show()"
   ]
  },
  {
   "cell_type": "code",
   "execution_count": 80,
   "metadata": {},
   "outputs": [
    {
     "data": {
      "text/plain": [
       "[<matplotlib.lines.Line2D at 0x107f54240>]"
      ]
     },
     "execution_count": 80,
     "metadata": {},
     "output_type": "execute_result"
    },
    {
     "data": {
      "image/png": "[encoded data removed]",
      "text/plain": [
       "<Figure size 432x288 with 1 Axes>"
      ]
     },
     "metadata": {},
     "output_type": "display_data"
    }
   ],
   "source": [
    "plt.plot(X_nd_IC,Y_nd_IC)\n",
    "plt.plot(X_nd_ICE,Y_nd_ICE)"
   ]
  },
  {
   "cell_type": "code",
   "execution_count": 81,
   "metadata": {},
   "outputs": [
    {
     "data": {
      "text/plain": [
       "1.9675290519265625"
      ]
     },
     "execution_count": 81,
     "metadata": {},
     "output_type": "execute_result"
    }
   ],
   "source": [
    "KLD(X_IC,X_ICE)"
   ]
  },
  {
   "cell_type": "code",
   "execution_count": 83,
   "metadata": {},
   "outputs": [
    {
     "data": {
      "text/plain": [
       "1.4490181490924154"
      ]
     },
     "execution_count": 83,
     "metadata": {},
     "output_type": "execute_result"
    }
   ],
   "source": [
    "JSD(X_IC,X_ICE)"
   ]
  },
  {
   "cell_type": "code",
   "execution_count": 103,
   "metadata": {},
   "outputs": [
    {
     "data": {
      "text/plain": [
       "132.73356273192363"
      ]
     },
     "execution_count": 103,
     "metadata": {},
     "output_type": "execute_result"
    }
   ],
   "source": [
    "HI(X_IC,X_ICE)"
   ]
  },
  {
   "cell_type": "code",
   "execution_count": 84,
   "metadata": {},
   "outputs": [
    {
     "data": {
      "image/png": "[encoded data removed]",
      "text/plain": [
       "<Figure size 432x288 with 1 Axes>"
      ]
     },
     "metadata": {},
     "output_type": "display_data"
    },
    {
     "data": {
      "image/png": "[encoded data removed]",
      "text/plain": [
       "<Figure size 432x288 with 1 Axes>"
      ]
     },
     "metadata": {},
     "output_type": "display_data"
    }
   ],
   "source": [
    "plt.subplot(211)\n",
    "#plt.plot(T_IC, Y_IC)\n",
    "plt.scatter(T_IC, Y_IC)\n",
    "plt.show()\n",
    "plt.subplot(212)\n",
    "#plt.plot(T_ICE, Y_ICE)\n",
    "plt.scatter(T_ICE, Y_ICE)\n",
    "plt.show()"
   ]
  },
  {
   "cell_type": "code",
   "execution_count": 85,
   "metadata": {},
   "outputs": [
    {
     "data": {
      "image/png": "[encoded data removed]",
      "text/plain": [
       "<Figure size 432x288 with 1 Axes>"
      ]
     },
     "metadata": {},
     "output_type": "display_data"
    }
   ],
   "source": [
    "ave = mean(Y_IC)\n",
    "sigma = stdev(Y_IC)\n",
    "X_nd_IC = np.arange(ave-4*sigma,ave+4*sigma,0.001)\n",
    "Y_nd_IC = norm.pdf(X_nd_IC,ave,sigma)\n",
    "ave = mean(Y_ICE)\n",
    "sigma = stdev(Y_ICE)\n",
    "X_nd_ICE = np.arange(ave-4*sigma,ave+4*sigma,0.001)\n",
    "Y_nd_ICE = norm.pdf(X_nd_ICE,ave,sigma)\n",
    "plt.figure()\n",
    "plt.hist(Y_IC,alpha=0.5)\n",
    "plt.hist(Y_ICE,alpha=0.5)\n",
    "plt.show()"
   ]
  },
  {
   "cell_type": "code",
   "execution_count": 86,
   "metadata": {},
   "outputs": [
    {
     "data": {
      "text/plain": [
       "[<matplotlib.lines.Line2D at 0x1079d7d30>]"
      ]
     },
     "execution_count": 86,
     "metadata": {},
     "output_type": "execute_result"
    },
    {
     "data": {
      "image/png": "[encoded data removed]",
      "text/plain": [
       "<Figure size 432x288 with 1 Axes>"
      ]
     },
     "metadata": {},
     "output_type": "display_data"
    }
   ],
   "source": [
    "plt.plot(X_nd_IC,Y_nd_IC)\n",
    "plt.plot(X_nd_ICE,Y_nd_ICE)"
   ]
  },
  {
   "cell_type": "code",
   "execution_count": 87,
   "metadata": {},
   "outputs": [
    {
     "data": {
      "text/plain": [
       "22.991030608439683"
      ]
     },
     "execution_count": 87,
     "metadata": {},
     "output_type": "execute_result"
    }
   ],
   "source": [
    "KLD(Y_IC,Y_ICE)"
   ]
  },
  {
   "cell_type": "code",
   "execution_count": 88,
   "metadata": {},
   "outputs": [
    {
     "data": {
      "text/plain": [
       "2.1344462615117026"
      ]
     },
     "execution_count": 88,
     "metadata": {},
     "output_type": "execute_result"
    }
   ],
   "source": [
    "JSD(Y_IC,Y_ICE)"
   ]
  },
  {
   "cell_type": "code",
   "execution_count": 104,
   "metadata": {},
   "outputs": [
    {
     "data": {
      "text/plain": [
       "0.25753818446440685"
      ]
     },
     "execution_count": 104,
     "metadata": {},
     "output_type": "execute_result"
    }
   ],
   "source": [
    "HI(Y_IC,Y_ICE)"
   ]
  },
  {
   "cell_type": "code",
   "execution_count": 89,
   "metadata": {},
   "outputs": [
    {
     "data": {
      "image/png": "[encoded data removed]",
      "text/plain": [
       "<Figure size 432x288 with 1 Axes>"
      ]
     },
     "metadata": {},
     "output_type": "display_data"
    },
    {
     "data": {
      "image/png": "[encoded data removed]",
      "text/plain": [
       "<Figure size 432x288 with 1 Axes>"
      ]
     },
     "metadata": {},
     "output_type": "display_data"
    }
   ],
   "source": [
    "plt.subplot(211)\n",
    "#plt.plot(T_IC, Z_IC)\n",
    "plt.scatter(T_IC, Z_IC)\n",
    "plt.show()\n",
    "plt.subplot(212)\n",
    "#plt.plot(T_ICE, Z_ICE)\n",
    "plt.scatter(T_ICE, Z_ICE)\n",
    "plt.show()"
   ]
  },
  {
   "cell_type": "code",
   "execution_count": 90,
   "metadata": {},
   "outputs": [
    {
     "data": {
      "image/png": "[encoded data removed]",
      "text/plain": [
       "<Figure size 432x288 with 1 Axes>"
      ]
     },
     "metadata": {},
     "output_type": "display_data"
    }
   ],
   "source": [
    "ave = mean(Z_IC)\n",
    "sigma = stdev(Z_IC)\n",
    "X_nd_IC = np.arange(ave-4*sigma,ave+4*sigma,0.001)\n",
    "Y_nd_IC = norm.pdf(X_nd_IC,ave,sigma)\n",
    "ave = mean(Z_ICE)\n",
    "sigma = stdev(Z_ICE)\n",
    "X_nd_ICE = np.arange(ave-4*sigma,ave+4*sigma,0.001)\n",
    "Y_nd_ICE = norm.pdf(X_nd_ICE,ave,sigma)\n",
    "plt.figure()\n",
    "plt.hist(Z_IC,alpha=0.5)\n",
    "plt.hist(Z_ICE,alpha=0.5)\n",
    "plt.show()"
   ]
  },
  {
   "cell_type": "code",
   "execution_count": 91,
   "metadata": {},
   "outputs": [
    {
     "data": {
      "text/plain": [
       "[<matplotlib.lines.Line2D at 0x1077e1c88>]"
      ]
     },
     "execution_count": 91,
     "metadata": {},
     "output_type": "execute_result"
    },
    {
     "data": {
      "image/png": "[encoded data removed]",
      "text/plain": [
       "<Figure size 432x288 with 1 Axes>"
      ]
     },
     "metadata": {},
     "output_type": "display_data"
    }
   ],
   "source": [
    "plt.plot(X_nd_IC,Y_nd_IC)\n",
    "plt.plot(X_nd_ICE,Y_nd_ICE)"
   ]
  },
  {
   "cell_type": "code",
   "execution_count": 92,
   "metadata": {},
   "outputs": [
    {
     "data": {
      "text/plain": [
       "6.213382533794337"
      ]
     },
     "execution_count": 92,
     "metadata": {},
     "output_type": "execute_result"
    }
   ],
   "source": [
    "KLD(Z_IC,Z_ICE)"
   ]
  },
  {
   "cell_type": "code",
   "execution_count": 93,
   "metadata": {},
   "outputs": [
    {
     "data": {
      "text/plain": [
       "1383.398547012351"
      ]
     },
     "execution_count": 93,
     "metadata": {},
     "output_type": "execute_result"
    }
   ],
   "source": [
    "JSD(Z_IC,Z_ICE)"
   ]
  },
  {
   "cell_type": "code",
   "execution_count": 105,
   "metadata": {},
   "outputs": [
    {
     "data": {
      "text/plain": [
       "186.4223187462117"
      ]
     },
     "execution_count": 105,
     "metadata": {},
     "output_type": "execute_result"
    }
   ],
   "source": [
    "HI(Z_IC,Z_ICE)"
   ]
  },
  {
   "cell_type": "code",
   "execution_count": null,
   "metadata": {},
   "outputs": [],
   "source": []
  }
 ],
 "metadata": {
  "kernelspec": {
   "display_name": "Python3-TensorFlow",
   "language": "python",
   "name": "tf"
  },
  "language_info": {
   "codemirror_mode": {
    "name": "ipython",
    "version": 3
   },
   "file_extension": ".py",
   "mimetype": "text/x-python",
   "name": "python",
   "nbconvert_exporter": "python",
   "pygments_lexer": "ipython3",
   "version": "3.5.3"
  }
 },
 "nbformat": 4,
 "nbformat_minor": 2
}
