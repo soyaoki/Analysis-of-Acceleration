{
 "cells": [
  {
   "cell_type": "code",
   "execution_count": null,
   "metadata": {},
   "outputs": [],
   "source": [
    "import sys\n",
    "import numpy as np\n",
    "import matplotlib.pyplot as plt\n",
    "from statistics import mean, median,variance,stdev\n",
    "from scipy.stats import norm\n",
    "\n",
    "# from ipynb.fs.full.analyze_all import HI"
   ]
  },
  {
   "cell_type": "code",
   "execution_count": null,
   "metadata": {},
   "outputs": [],
   "source": [
    "## Histogram Intersection ##\n",
    "def HI(a, b,N=100):\n",
    "    mini = min(min(a),min(b))\n",
    "    maxi = max(max(a),max(b))\n",
    "    a_hist, a_bins = np.histogram(a,bins=N,range=(mini,maxi),normed=True)\n",
    "    b_hist, b_bins = np.histogram(b,bins=N,range=(mini,maxi),normed=True)\n",
    "    HI = 0\n",
    "    for i in range(0, N-1):\n",
    "        HI = HI + min(a_hist[i], b_hist[i])\n",
    "    return HI"
   ]
  },
  {
   "cell_type": "code",
   "execution_count": null,
   "metadata": {},
   "outputs": [],
   "source": [
    "## KLD(正規分布) ##\n",
    "def KLD(a, b):\n",
    "    a_mu = np.mean(a)\n",
    "    a_sigma = np.std(a)\n",
    "    b_mu = np.mean(b)\n",
    "    b_sigma = np.std(b)\n",
    "    \n",
    "    return np.log(b_sigma / b_sigma) + (a_sigma*a_sigma + (a_mu - b_mu)*(a_mu - b_mu))/(2*b_sigma*b_sigma) - 1/2"
   ]
  },
  {
   "cell_type": "code",
   "execution_count": null,
   "metadata": {},
   "outputs": [],
   "source": [
    "## JSD(正規分布) ##\n",
    "def JSD(a, b):\n",
    "    m = np.array([a+b])/2\n",
    "    return 0.5 * (KLD(a, m) + KLD(b, m))"
   ]
  },
  {
   "cell_type": "code",
   "execution_count": null,
   "metadata": {},
   "outputs": [],
   "source": [
    "## L1 norm ##\n",
    "def L1Norm(a, b, N=100):\n",
    "    mini = min(min(a),min(b))\n",
    "    maxi = max(max(a),max(b))\n",
    "    a_hist, a_bins = np.histogram(a,bins=N,range=(mini,maxi),normed=True)\n",
    "    b_hist, b_bins = np.histogram(b,bins=N,range=(mini,maxi),normed=True)\n",
    "    L1N = 0\n",
    "    for i in range(0, N-1):\n",
    "        L1N = L1N + abs(a_hist[i] - b_hist[i])\n",
    "    return L1N"
   ]
  },
  {
   "cell_type": "code",
   "execution_count": null,
   "metadata": {},
   "outputs": [],
   "source": [
    "## L2 norm ##\n",
    "def L2Norm(a, b, N=100):\n",
    "    mini = min(min(a),min(b))\n",
    "    maxi = max(max(a),max(b))\n",
    "    a_hist, a_bins = np.histogram(a,bins=N,range=(mini,maxi),normed=True)\n",
    "    b_hist, b_bins = np.histogram(b,bins=N,range=(mini,maxi),normed=True)\n",
    "    L2N = 0\n",
    "    for i in range(0, N-1):\n",
    "        L2N = L2N + (a_hist[i] - b_hist[i]) * (a_hist[i] - b_hist[i])\n",
    "    return L2N"
   ]
  },
  {
   "cell_type": "code",
   "execution_count": null,
   "metadata": {},
   "outputs": [],
   "source": [
    "## data load ##"
   ]
  },
  {
   "cell_type": "code",
   "execution_count": null,
   "metadata": {},
   "outputs": [],
   "source": [
    "## JR Local ##"
   ]
  },
  {
   "cell_type": "code",
   "execution_count": null,
   "metadata": {},
   "outputs": [],
   "source": [
    "file_name = \"JR_Local/x.txt\"\n",
    "X_JR = []\n",
    "\n",
    "file = open(file_name, 'r')\n",
    "\n",
    "for line in file.readlines():\n",
    "    fname = line.rstrip().split(',') #using rstrip to remove the \\n\n",
    "    X_JR.append(float(fname[1]))\n",
    "\n",
    "file.close()\n",
    "print(len(X_JR))"
   ]
  },
  {
   "cell_type": "code",
   "execution_count": null,
   "metadata": {},
   "outputs": [],
   "source": [
    "file_name = \"JR_Local/y.txt\"\n",
    "Y_JR = []\n",
    "\n",
    "file = open(file_name, 'r')\n",
    "\n",
    "for line in file.readlines():\n",
    "    fname = line.rstrip().split(',') #using rstrip to remove the \\n\n",
    "    Y_JR.append(float(fname[1]))\n",
    "\n",
    "file.close()\n",
    "print(len(Y_JR))"
   ]
  },
  {
   "cell_type": "code",
   "execution_count": null,
   "metadata": {},
   "outputs": [],
   "source": [
    "file_name = \"JR_Local/z.txt\"\n",
    "Z_JR = []\n",
    "\n",
    "file = open(file_name, 'r')\n",
    "\n",
    "for line in file.readlines():\n",
    "    fname = line.rstrip().split(',') #using rstrip to remove the \\n\n",
    "    Z_JR.append(float(fname[1]))\n",
    "\n",
    "file.close()\n",
    "print(len(Z_JR))"
   ]
  },
  {
   "cell_type": "code",
   "execution_count": null,
   "metadata": {},
   "outputs": [],
   "source": [
    "T_JR = np.arange(0, len(X_JR)*0.1, 0.1)\n",
    "print(len(T_JR))"
   ]
  },
  {
   "cell_type": "code",
   "execution_count": null,
   "metadata": {},
   "outputs": [],
   "source": [
    "## ICE ##"
   ]
  },
  {
   "cell_type": "code",
   "execution_count": null,
   "metadata": {},
   "outputs": [],
   "source": [
    "file_name = \"ICE/x.txt\"\n",
    "X_ICE = []\n",
    "\n",
    "file = open(file_name, 'r')\n",
    "\n",
    "for line in file.readlines():\n",
    "    fname = line.rstrip().split(',') #using rstrip to remove the \\n\n",
    "    X_ICE.append(float(fname[1]))\n",
    "\n",
    "file.close()\n",
    "print(len(X_ICE))"
   ]
  },
  {
   "cell_type": "code",
   "execution_count": null,
   "metadata": {},
   "outputs": [],
   "source": [
    "file_name = \"ICE/y.txt\"\n",
    "Y_ICE = []\n",
    "\n",
    "file = open(file_name, 'r')\n",
    "\n",
    "for line in file.readlines():\n",
    "    fname = line.rstrip().split(',') #using rstrip to remove the \\n\n",
    "    Y_ICE.append(float(fname[1]))\n",
    "\n",
    "file.close()\n",
    "print(len(Y_ICE))"
   ]
  },
  {
   "cell_type": "code",
   "execution_count": null,
   "metadata": {},
   "outputs": [],
   "source": [
    "file_name = \"ICE/z.txt\"\n",
    "Z_ICE = []\n",
    "\n",
    "file = open(file_name, 'r')\n",
    "\n",
    "for line in file.readlines():\n",
    "    fname = line.rstrip().split(',') #using rstrip to remove the \\n\n",
    "    Z_ICE.append(float(fname[1]))\n",
    "\n",
    "file.close()\n",
    "print(len(Z_ICE))"
   ]
  },
  {
   "cell_type": "code",
   "execution_count": null,
   "metadata": {},
   "outputs": [],
   "source": [
    "T_ICE = np.arange(0, len(X_ICE)*0.1, 0.1)\n",
    "print(len(T_ICE))"
   ]
  },
  {
   "cell_type": "code",
   "execution_count": null,
   "metadata": {},
   "outputs": [],
   "source": [
    "## show ##"
   ]
  },
  {
   "cell_type": "code",
   "execution_count": null,
   "metadata": {},
   "outputs": [],
   "source": [
    "plt.subplot(211)\n",
    "#plt.plot(T_JR, X_JR)\n",
    "plt.scatter(T_JR, X_JR)\n",
    "plt.show()\n",
    "plt.subplot(212)\n",
    "#plt.plot(T_ICE, X_ICE)\n",
    "plt.scatter(T_ICE, X_ICE)\n",
    "plt.show()"
   ]
  },
  {
   "cell_type": "code",
   "execution_count": null,
   "metadata": {},
   "outputs": [],
   "source": [
    "ave = mean(X_JR)\n",
    "sigma = stdev(X_JR)\n",
    "X_nd_JR = np.arange(ave-4*sigma,ave+4*sigma,0.001)\n",
    "Y_nd_JR = norm.pdf(X_nd_JR,ave,sigma)\n",
    "ave = mean(X_ICE)\n",
    "sigma = stdev(X_ICE)\n",
    "X_nd_ICE = np.arange(ave-4*sigma,ave+4*sigma,0.001)\n",
    "Y_nd_ICE = norm.pdf(X_nd_ICE,ave,sigma)\n",
    "plt.figure()\n",
    "plt.hist(X_JR,alpha=0.5)\n",
    "plt.hist(X_ICE,alpha=0.5)\n",
    "plt.show()"
   ]
  },
  {
   "cell_type": "code",
   "execution_count": null,
   "metadata": {},
   "outputs": [],
   "source": [
    "plt.plot(X_nd_JR,Y_nd_JR)\n",
    "plt.plot(X_nd_ICE,Y_nd_ICE)"
   ]
  },
  {
   "cell_type": "code",
   "execution_count": null,
   "metadata": {},
   "outputs": [],
   "source": [
    "KLD(X_JR,X_ICE)"
   ]
  },
  {
   "cell_type": "code",
   "execution_count": null,
   "metadata": {},
   "outputs": [],
   "source": [
    "JSD(X_JR,X_ICE)"
   ]
  },
  {
   "cell_type": "code",
   "execution_count": null,
   "metadata": {},
   "outputs": [],
   "source": [
    "HI(X_JR,X_ICE)"
   ]
  },
  {
   "cell_type": "code",
   "execution_count": null,
   "metadata": {},
   "outputs": [],
   "source": [
    "L1Norm(X_JR,X_ICE)"
   ]
  },
  {
   "cell_type": "code",
   "execution_count": null,
   "metadata": {},
   "outputs": [],
   "source": [
    "L2Norm(X_JR,X_ICE)"
   ]
  },
  {
   "cell_type": "code",
   "execution_count": null,
   "metadata": {},
   "outputs": [],
   "source": [
    "plt.subplot(211)\n",
    "#plt.plot(T_JR, Y_JR)\n",
    "plt.scatter(T_JR, Y_JR)\n",
    "plt.show()\n",
    "plt.subplot(212)\n",
    "#plt.plot(T_ICE, Y_ICE)\n",
    "plt.scatter(T_ICE, Y_ICE)\n",
    "plt.show()"
   ]
  },
  {
   "cell_type": "code",
   "execution_count": null,
   "metadata": {},
   "outputs": [],
   "source": [
    "ave = mean(Y_JR)\n",
    "sigma = stdev(Y_JR)\n",
    "X_nd_JR = np.arange(ave-4*sigma,ave+4*sigma,0.001)\n",
    "Y_nd_JR = norm.pdf(X_nd_JR,ave,sigma)\n",
    "ave = mean(Y_ICE)\n",
    "sigma = stdev(Y_ICE)\n",
    "X_nd_ICE = np.arange(ave-4*sigma,ave+4*sigma,0.001)\n",
    "Y_nd_ICE = norm.pdf(X_nd_ICE,ave,sigma)\n",
    "plt.figure()\n",
    "plt.hist(Y_JR,alpha=0.5)\n",
    "plt.hist(Y_ICE,alpha=0.5)\n",
    "plt.show()"
   ]
  },
  {
   "cell_type": "code",
   "execution_count": null,
   "metadata": {},
   "outputs": [],
   "source": [
    "plt.plot(X_nd_JR,Y_nd_JR)\n",
    "plt.plot(X_nd_ICE,Y_nd_ICE)"
   ]
  },
  {
   "cell_type": "code",
   "execution_count": null,
   "metadata": {},
   "outputs": [],
   "source": [
    "KLD(Y_JR,Y_ICE)"
   ]
  },
  {
   "cell_type": "code",
   "execution_count": null,
   "metadata": {},
   "outputs": [],
   "source": [
    "JSD(Y_JR,Y_ICE)"
   ]
  },
  {
   "cell_type": "code",
   "execution_count": null,
   "metadata": {},
   "outputs": [],
   "source": [
    "HI(Y_JR,Y_ICE)"
   ]
  },
  {
   "cell_type": "code",
   "execution_count": null,
   "metadata": {},
   "outputs": [],
   "source": [
    "L1Norm(Y_JR,Y_ICE)"
   ]
  },
  {
   "cell_type": "code",
   "execution_count": null,
   "metadata": {},
   "outputs": [],
   "source": [
    "L2Norm(Y_JR,Y_ICE)"
   ]
  },
  {
   "cell_type": "code",
   "execution_count": null,
   "metadata": {},
   "outputs": [],
   "source": [
    "plt.subplot(211)\n",
    "#plt.plot(T_JR, Z_JR)\n",
    "plt.scatter(T_JR, Z_JR)\n",
    "plt.show()\n",
    "plt.subplot(212)\n",
    "#plt.plot(T_ICE, Z_ICE)\n",
    "plt.scatter(T_ICE, Z_ICE)\n",
    "plt.show()"
   ]
  },
  {
   "cell_type": "code",
   "execution_count": null,
   "metadata": {},
   "outputs": [],
   "source": [
    "ave = mean(Z_JR)\n",
    "sigma = stdev(Z_JR)\n",
    "X_nd_JR = np.arange(ave-4*sigma,ave+4*sigma,0.001)\n",
    "Y_nd_JR = norm.pdf(X_nd_JR,ave,sigma)\n",
    "ave = mean(Z_ICE)\n",
    "sigma = stdev(Z_ICE)\n",
    "X_nd_ICE = np.arange(ave-4*sigma,ave+4*sigma,0.001)\n",
    "Y_nd_ICE = norm.pdf(X_nd_ICE,ave,sigma)\n",
    "plt.figure()\n",
    "plt.hist(Z_JR,alpha=0.5)\n",
    "plt.hist(Z_ICE,alpha=0.5)\n",
    "plt.show()"
   ]
  },
  {
   "cell_type": "code",
   "execution_count": null,
   "metadata": {},
   "outputs": [],
   "source": [
    "plt.plot(X_nd_JR,Y_nd_JR)\n",
    "plt.plot(X_nd_ICE,Y_nd_ICE)"
   ]
  },
  {
   "cell_type": "code",
   "execution_count": null,
   "metadata": {},
   "outputs": [],
   "source": [
    "KLD(Z_JR,Z_ICE)"
   ]
  },
  {
   "cell_type": "code",
   "execution_count": null,
   "metadata": {},
   "outputs": [],
   "source": [
    "JSD(Z_JR,Z_ICE)"
   ]
  },
  {
   "cell_type": "code",
   "execution_count": null,
   "metadata": {},
   "outputs": [],
   "source": [
    "HI(Z_JR,Z_ICE)"
   ]
  },
  {
   "cell_type": "code",
   "execution_count": null,
   "metadata": {},
   "outputs": [],
   "source": [
    "L1Norm(Z_JR,Z_ICE)"
   ]
  },
  {
   "cell_type": "code",
   "execution_count": null,
   "metadata": {},
   "outputs": [],
   "source": [
    "L2Norm(Z_JR,Z_ICE)"
   ]
  },
  {
   "cell_type": "code",
   "execution_count": null,
   "metadata": {},
   "outputs": [],
   "source": []
  },
  {
   "cell_type": "code",
   "execution_count": null,
   "metadata": {},
   "outputs": [],
   "source": []
  }
 ],
 "metadata": {
  "kernelspec": {
   "display_name": "Python3-TensorFlow",
   "language": "python",
   "name": "tf"
  },
  "language_info": {
   "codemirror_mode": {
    "name": "ipython",
    "version": 3
   },
   "file_extension": ".py",
   "mimetype": "text/x-python",
   "name": "python",
   "nbconvert_exporter": "python",
   "pygments_lexer": "ipython3",
   "version": "3.5.3"
  }
 },
 "nbformat": 4,
 "nbformat_minor": 2
}
